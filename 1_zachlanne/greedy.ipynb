{
 "cells": [
  {
   "cell_type": "code",
   "execution_count": 6,
   "id": "7f04a4db",
   "metadata": {},
   "outputs": [],
   "source": [
    "import numpy as np\n",
    "import re\n",
    "import math"
   ]
  },
  {
   "cell_type": "code",
   "execution_count": 11,
   "id": "af8e5e58",
   "metadata": {},
   "outputs": [],
   "source": [
    "def calculate_distance(start: [int, int], end: [int, int]):\n",
    "    return math.sqrt((end[0] - start[0])**2 + (end[1] - start[1])**2)\n",
    "\n",
    "def parse_file(path: str):\n",
    "    vertices = []\n",
    "    \n",
    "    with open(path) as f:\n",
    "        lines = f.readlines()\n",
    "        \n",
    "    for line in lines:\n",
    "        if not re.match(r\"^[A-Z]\", line):\n",
    "            line = re.sub(\"\\n\", \"\", line)\n",
    "            line = list(map(int, line.split(\" \")[1:]))\n",
    "            vertices.append(line)\n",
    "        \n",
    "    return vertices\n",
    "\n",
    "def create_distance_matrix(vertices: list):\n",
    "    matrix = []\n",
    "    \n",
    "    for start in vertices:\n",
    "        temp = []\n",
    "        for end in vertices: \n",
    "            temp.append(calculate_distance(start, end))\n",
    "        matrix.append(temp)\n",
    "        \n",
    "    return matrix"
   ]
  },
  {
   "cell_type": "code",
   "execution_count": null,
   "id": "fa4bda39",
   "metadata": {},
   "outputs": [],
   "source": []
  }
 ],
 "metadata": {
  "kernelspec": {
   "display_name": "Python 3 (ipykernel)",
   "language": "python",
   "name": "python3"
  },
  "language_info": {
   "codemirror_mode": {
    "name": "ipython",
    "version": 3
   },
   "file_extension": ".py",
   "mimetype": "text/x-python",
   "name": "python",
   "nbconvert_exporter": "python",
   "pygments_lexer": "ipython3",
   "version": "3.10.9"
  }
 },
 "nbformat": 4,
 "nbformat_minor": 5
}
